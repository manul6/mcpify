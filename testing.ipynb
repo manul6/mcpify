{
 "cells": [
  {
   "cell_type": "code",
   "execution_count": 1,
   "id": "0e02441a",
   "metadata": {},
   "outputs": [],
   "source": [
    "# simplified mcpify testing\n",
    "%load_ext autoreload\n",
    "%autoreload 2"
   ]
  },
  {
   "cell_type": "code",
   "execution_count": 2,
   "id": "49a93d07",
   "metadata": {},
   "outputs": [],
   "source": [
    "# basic functions for testing\n",
    "def add(a: int, b: int) -> int:\n",
    "    \"\"\"add two numbers\"\"\"\n",
    "    return a + b\n",
    "\n",
    "def greet(name: str) -> str:\n",
    "    \"\"\"greet a person\"\"\"\n",
    "    return f\"hello {name}!\"\n",
    "\n",
    "def calculate(operation: str, x: float, y: float) -> float:\n",
    "    \"\"\"perform basic calculations\"\"\"\n",
    "    ops = {\"add\": x + y, \"multiply\": x * y, \"divide\": x / y if y != 0 else 0}\n",
    "    return ops.get(operation, 0)"
   ]
  },
  {
   "cell_type": "code",
   "execution_count": 3,
   "id": "3d476894",
   "metadata": {},
   "outputs": [
    {
     "name": "stdout",
     "output_type": "stream",
     "text": [
      "✅ function to tool conversion:\n",
      "  name: add\n",
      "  description: add two numbers\n",
      "  schema: {\n",
      "  \"type\": \"object\",\n",
      "  \"properties\": {\n",
      "    \"a\": {\n",
      "      \"type\": \"integer\"\n",
      "    },\n",
      "    \"b\": {\n",
      "      \"type\": \"integer\"\n",
      "    }\n",
      "  },\n",
      "  \"required\": [\n",
      "    \"a\",\n",
      "    \"b\"\n",
      "  ]\n",
      "}\n",
      "\n",
      "✅ server creation:\n",
      "  functions: ['add']\n",
      "  type: McpifiedServer\n"
     ]
    }
   ],
   "source": [
    "# test individual function conversion\n",
    "from mcpify import mcpify, mcpify_function\n",
    "import json\n",
    "\n",
    "# test single function\n",
    "tool = mcpify_function(add)\n",
    "print(\"✅ function to tool conversion:\")\n",
    "print(f\"  name: {tool.name}\")\n",
    "print(f\"  description: {tool.description}\")\n",
    "print(f\"  schema: {json.dumps(tool.inputSchema, indent=2)}\")\n",
    "\n",
    "# test server creation\n",
    "server = mcpify(add)\n",
    "print(f\"\\n✅ server creation:\")\n",
    "print(f\"  functions: {list(server.functions.keys())}\")\n",
    "print(f\"  type: {type(server).__name__}\")"
   ]
  },
  {
   "cell_type": "code",
   "execution_count": 4,
   "id": "4b5ab72d",
   "metadata": {},
   "outputs": [
    {
     "name": "stdout",
     "output_type": "stream",
     "text": [
      "✅ multi-function server:\n",
      "  functions: ['add', 'greet', 'calculate']\n",
      "\n",
      "✅ complex types:\n",
      "  schema: {\n",
      "  \"type\": \"object\",\n",
      "  \"properties\": {\n",
      "    \"items\": {\n",
      "      \"type\": \"array\",\n",
      "      \"items\": {\n",
      "        \"type\": \"string\"\n",
      "      }\n",
      "    },\n",
      "    \"count\": {\n",
      "      \"type\": \"string\"\n",
      "    }\n",
      "  },\n",
      "  \"required\": [\n",
      "    \"items\"\n",
      "  ]\n",
      "}\n"
     ]
    }
   ],
   "source": [
    "# test multiple functions\n",
    "server = mcpify([add, greet, calculate])\n",
    "print(\"✅ multi-function server:\")\n",
    "print(f\"  functions: {list(server.functions.keys())}\")\n",
    "\n",
    "# test type handling\n",
    "from typing import List, Optional\n",
    "\n",
    "def process_list(items: List[str], count: Optional[int] = None) -> str:\n",
    "    \"\"\"process a list of items\"\"\"\n",
    "    if count:\n",
    "        items = items[:count]\n",
    "    return f\"processed {len(items)} items: {', '.join(items)}\"\n",
    "\n",
    "tool = mcpify_function(process_list)\n",
    "print(f\"\\n✅ complex types:\")\n",
    "print(f\"  schema: {json.dumps(tool.inputSchema, indent=2)}\")\n",
    "\n"
   ]
  },
  {
   "cell_type": "code",
   "execution_count": 5,
   "id": "51394711",
   "metadata": {},
   "outputs": [
    {
     "name": "stdout",
     "output_type": "stream",
     "text": [
      "✅ async function:\n",
      "  name: fetch_data\n",
      "  schema: {\n",
      "  \"type\": \"object\",\n",
      "  \"properties\": {\n",
      "    \"url\": {\n",
      "      \"type\": \"string\"\n",
      "    },\n",
      "    \"timeout\": {\n",
      "      \"type\": \"integer\"\n",
      "    }\n",
      "  },\n",
      "  \"required\": [\n",
      "    \"url\"\n",
      "  ]\n",
      "}\n",
      "\n",
      "✅ async server: ['fetch_data']\n"
     ]
    }
   ],
   "source": [
    "# test async function support\n",
    "import asyncio\n",
    "\n",
    "async def fetch_data(url: str, timeout: int = 5) -> str:\n",
    "    \"\"\"fetch data from url with timeout\"\"\"\n",
    "    await asyncio.sleep(0.1)  # simulate network call\n",
    "    return f\"data from {url} (timeout: {timeout}s)\"\n",
    "\n",
    "# test async tool creation\n",
    "async_tool = mcpify_function(fetch_data)\n",
    "print(\"✅ async function:\")\n",
    "print(f\"  name: {async_tool.name}\")\n",
    "print(f\"  schema: {json.dumps(async_tool.inputSchema, indent=2)}\")\n",
    "\n",
    "# create async server\n",
    "async_server = mcpify(fetch_data)\n",
    "print(f\"\\n✅ async server: {list(async_server.functions.keys())}\")\n"
   ]
  },
  {
   "cell_type": "code",
   "execution_count": 6,
   "id": "717da0d9",
   "metadata": {},
   "outputs": [
    {
     "name": "stdout",
     "output_type": "stream",
     "text": [
      "✅ add(5, 3) = 8\n",
      "✅ greet('alice') = hello alice!\n",
      "✅ error handling: tool 'nonexistent' not found\n"
     ]
    }
   ],
   "source": [
    "# test tool execution simulation\n",
    "from mcp.types import CallToolRequest, CallToolRequestParams\n",
    "\n",
    "async def test_tool_execution():\n",
    "    \"\"\"simulate mcp tool execution\"\"\"\n",
    "    server = mcpify([add, greet])\n",
    "    \n",
    "    # simulate add tool call\n",
    "    \n",
    "    request = CallToolRequest(method=\"tools/call\", params=CallToolRequestParams(\n",
    "        name=\"add\",\n",
    "        arguments={\"a\": 5, \"b\": 3}\n",
    "    ))\n",
    "    result = await server._handle_call_tool(request)\n",
    "    print(f\"✅ add(5, 3) = {result.content[0].text}\")\n",
    "    \n",
    "    # simulate greet tool call  \n",
    "    request = CallToolRequest(method=\"tools/call\", params=CallToolRequestParams(\n",
    "        name=\"greet\",\n",
    "        arguments={\"name\": \"alice\"}\n",
    "    ))\n",
    "    result = await server._handle_call_tool(request)\n",
    "    print(f\"✅ greet('alice') = {result.content[0].text}\")\n",
    "    \n",
    "    # test error handling\n",
    "    request = CallToolRequest(method=\"tools/call\", params=CallToolRequestParams(\n",
    "        name=\"nonexistent\",\n",
    "        arguments={}\n",
    "    ))\n",
    "    result = await server._handle_call_tool(request)\n",
    "    print(f\"✅ error handling: {result.content[0].text}\")\n",
    "\n",
    "await test_tool_execution()\n"
   ]
  },
  {
   "cell_type": "code",
   "execution_count": 7,
   "id": "51f1de2e",
   "metadata": {},
   "outputs": [
    {
     "name": "stdout",
     "output_type": "stream",
     "text": [
      "🎉 simplified mcpify testing complete!\n",
      "\n",
      "✅ tested features:\n",
      "  - basic function conversion\n",
      "  - single & multiple function servers\n",
      "  - type annotation handling\n",
      "  - async function support\n",
      "  - tool execution simulation\n",
      "  - error handling\n",
      "\n",
      "✨ all tests passed with simplified implementation!\n"
     ]
    }
   ],
   "source": [
    "# final test summary\n",
    "print(\"🎉 simplified mcpify testing complete!\")\n",
    "print(\"\\n✅ tested features:\")\n",
    "print(\"  - basic function conversion\")\n",
    "print(\"  - single & multiple function servers\") \n",
    "print(\"  - type annotation handling\")\n",
    "print(\"  - async function support\")\n",
    "print(\"  - tool execution simulation\")\n",
    "print(\"  - error handling\")\n",
    "print(\"\\n✨ all tests passed with simplified implementation!\")\n"
   ]
  },
  {
   "cell_type": "code",
   "execution_count": 8,
   "id": "74aa2218",
   "metadata": {},
   "outputs": [
    {
     "name": "stdout",
     "output_type": "stream",
     "text": [
      "✅ edge cases:\n",
      "  legacy (no types): {'x': {'type': 'string'}, 'y': {'type': 'string'}}\n",
      "  union types: {'value': {'type': 'string'}}\n",
      "\n",
      "🎯 mcpify simplified & tested!\n"
     ]
    }
   ],
   "source": [
    "# test edge cases\n",
    "from typing import Union\n",
    "\n",
    "def legacy_function(x, y=10):\n",
    "    \"\"\"function without type hints\"\"\"\n",
    "    return x + y\n",
    "\n",
    "def union_function(value: Union[int, str]) -> str:\n",
    "    \"\"\"function with union types\"\"\"\n",
    "    return f\"got: {value}\"\n",
    "\n",
    "# test edge cases\n",
    "legacy_tool = mcpify_function(legacy_function)\n",
    "union_tool = mcpify_function(union_function)\n",
    "\n",
    "print(\"✅ edge cases:\")\n",
    "print(f\"  legacy (no types): {legacy_tool.inputSchema['properties']}\")\n",
    "print(f\"  union types: {union_tool.inputSchema['properties']}\")\n",
    "\n",
    "print(\"\\n🎯 mcpify simplified & tested!\")\n"
   ]
  }
 ],
 "metadata": {
  "kernelspec": {
   "display_name": "Python 3",
   "language": "python",
   "name": "python3"
  },
  "language_info": {
   "codemirror_mode": {
    "name": "ipython",
    "version": 3
   },
   "file_extension": ".py",
   "mimetype": "text/x-python",
   "name": "python",
   "nbconvert_exporter": "python",
   "pygments_lexer": "ipython3",
   "version": "3.11.9"
  }
 },
 "nbformat": 4,
 "nbformat_minor": 5
}
